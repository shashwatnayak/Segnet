{
 "cells": [
  {
   "cell_type": "code",
   "execution_count": 1,
   "metadata": {},
   "outputs": [],
   "source": [
    "import tensorflow as tf"
   ]
  },
  {
   "cell_type": "code",
   "execution_count": 2,
   "metadata": {},
   "outputs": [],
   "source": [
    "#I'm trying to fit a slope\n",
    "\n",
    "#my dataset"
   ]
  },
  {
   "cell_type": "code",
   "execution_count": 3,
   "metadata": {},
   "outputs": [],
   "source": [
    "xs = [ 0.00,  1.00,  2.00, 3.00, 4.00, 5.00, 6.00, 7.00] # Features\n",
    "ys = [-0.82, -0.94, -0.12, 0.26, 0.39, 0.64, 1.02, 1.00] # Labels"
   ]
  },
  {
   "cell_type": "code",
   "execution_count": 12,
   "metadata": {},
   "outputs": [],
   "source": [
    "m_init = 0.0 \n",
    "b_init = 0.0"
   ]
  },
  {
   "cell_type": "code",
   "execution_count": 13,
   "metadata": {},
   "outputs": [],
   "source": [
    "m = tf.Variable(m_init)\n",
    "b = tf.Variable(m_init)\n",
    "\n",
    "#define error b/w data and model\n",
    "\n",
    "tot_error = 0.0\n",
    "\n",
    "for x,y in zip(xs,ys):\n",
    "    y_model = m*x + b\n",
    "    tot_error = (y-y_model)**2\n",
    "\n"
   ]
  },
  {
   "cell_type": "code",
   "execution_count": 14,
   "metadata": {},
   "outputs": [
    {
     "name": "stdout",
     "output_type": "stream",
     "text": [
      "Slope: 0.125 Intercept: 0.125\n"
     ]
    }
   ],
   "source": [
    "optimizer_op = tf.train.AdamOptimizer(learning_rate=0.001).minimize(tot_error)\n",
    "initial_op = tf.global_variables_initializer()\n",
    "\n",
    "with tf.Session() as sess:\n",
    "    sess.run(initial_op)\n",
    "    \n",
    "    _EPOCHS = 10000\n",
    "    for iteration in range(_EPOCHS):\n",
    "        sess.run(optimizer_op)\n",
    "    slope,intercept = sess.run((m,b))\n",
    "    print('Slope:',slope,'Intercept:',intercept)"
   ]
  },
  {
   "cell_type": "code",
   "execution_count": null,
   "metadata": {},
   "outputs": [],
   "source": []
  }
 ],
 "metadata": {
  "kernelspec": {
   "display_name": "Python 3",
   "language": "python",
   "name": "python3"
  },
  "language_info": {
   "codemirror_mode": {
    "name": "ipython",
    "version": 3
   },
   "file_extension": ".py",
   "mimetype": "text/x-python",
   "name": "python",
   "nbconvert_exporter": "python",
   "pygments_lexer": "ipython3",
   "version": "3.5.4"
  }
 },
 "nbformat": 4,
 "nbformat_minor": 2
}
