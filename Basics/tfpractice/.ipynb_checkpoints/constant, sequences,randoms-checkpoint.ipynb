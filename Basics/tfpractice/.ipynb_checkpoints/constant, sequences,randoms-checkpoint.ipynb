{
 "cells": [
  {
   "cell_type": "code",
   "execution_count": 1,
   "metadata": {},
   "outputs": [],
   "source": [
    "import tensorflow as tf\n",
    "import numpy as np\n",
    "from __future__ import print_function"
   ]
  },
  {
   "cell_type": "code",
   "execution_count": 2,
   "metadata": {},
   "outputs": [
    {
     "data": {
      "text/plain": [
       "datetime.date(2018, 12, 24)"
      ]
     },
     "execution_count": 2,
     "metadata": {},
     "output_type": "execute_result"
    }
   ],
   "source": [
    "from datetime import date\n",
    "date.today()\n",
    "# time.today()"
   ]
  },
  {
   "cell_type": "code",
   "execution_count": 3,
   "metadata": {},
   "outputs": [
    {
     "data": {
      "text/plain": [
       "'1.4.0'"
      ]
     },
     "execution_count": 3,
     "metadata": {},
     "output_type": "execute_result"
    }
   ],
   "source": [
    "tf.__version__"
   ]
  },
  {
   "cell_type": "code",
   "execution_count": 4,
   "metadata": {},
   "outputs": [],
   "source": [
    "sess = tf.InteractiveSession()"
   ]
  },
  {
   "cell_type": "code",
   "execution_count": 5,
   "metadata": {},
   "outputs": [
    {
     "name": "stdout",
     "output_type": "stream",
     "text": [
      "Tensor(\"zeros:0\", shape=(2, 3), dtype=float32)\n"
     ]
    },
    {
     "data": {
      "text/plain": [
       "array([[ 0.,  0.,  0.],\n",
       "       [ 0.,  0.,  0.]], dtype=float32)"
      ]
     },
     "execution_count": 5,
     "metadata": {},
     "output_type": "execute_result"
    }
   ],
   "source": [
    "#tensor shaped [2,3] with zeros\n",
    "\n",
    "x = tf.zeros([2,3])\n",
    "print(x)\n",
    "sess = tf.Session()\n",
    "sess.run(x)"
   ]
  },
  {
   "cell_type": "code",
   "execution_count": 7,
   "metadata": {},
   "outputs": [
    {
     "name": "stdout",
     "output_type": "stream",
     "text": [
      "Tensor(\"zeros_like_1:0\", shape=(2, 3), dtype=int64)\n"
     ]
    },
    {
     "data": {
      "text/plain": [
       "array([[0, 0, 0],\n",
       "       [0, 0, 0]])"
      ]
     },
     "execution_count": 7,
     "metadata": {},
     "output_type": "execute_result"
    }
   ],
   "source": [
    "xx = np.array([[1,2,3],[4,5,6]])\n",
    "x = tf.convert_to_tensor(xx)\n",
    "p = tf.zeros_like(x)\n",
    "print(p)\n",
    "sess.run(p)"
   ]
  },
  {
   "cell_type": "code",
   "execution_count": 9,
   "metadata": {},
   "outputs": [
    {
     "name": "stdout",
     "output_type": "stream",
     "text": [
      "Tensor(\"ones:0\", shape=(2, 3), dtype=float32)\n"
     ]
    },
    {
     "data": {
      "text/plain": [
       "array([[ 1.,  1.,  1.],\n",
       "       [ 1.,  1.,  1.]], dtype=float32)"
      ]
     },
     "execution_count": 9,
     "metadata": {},
     "output_type": "execute_result"
    }
   ],
   "source": [
    "yy = tf.ones([2,3])\n",
    "print(yy)\n",
    "sess.run(yy)"
   ]
  },
  {
   "cell_type": "code",
   "execution_count": 12,
   "metadata": {},
   "outputs": [
    {
     "name": "stdout",
     "output_type": "stream",
     "text": [
      "Tensor(\"Mul_1:0\", shape=(3, 2), dtype=float32)\n"
     ]
    },
    {
     "data": {
      "text/plain": [
       "array([[ 5.,  5.],\n",
       "       [ 5.,  5.],\n",
       "       [ 5.,  5.]], dtype=float32)"
      ]
     },
     "execution_count": 12,
     "metadata": {},
     "output_type": "execute_result"
    }
   ],
   "source": [
    "rr = tf.ones([3,2])\n",
    "five = tf.constant(5,dtype = tf.float32)\n",
    "ss = tf.multiply(rr,five)\n",
    "print(ss)\n",
    "sess.run(ss)\n"
   ]
  },
  {
   "cell_type": "code",
   "execution_count": 13,
   "metadata": {},
   "outputs": [
    {
     "name": "stdout",
     "output_type": "stream",
     "text": [
      "Tensor(\"Const_3:0\", shape=(2, 3), dtype=float32)\n"
     ]
    },
    {
     "data": {
      "text/plain": [
       "array([[ 1.,  3.,  5.],\n",
       "       [ 4.,  6.,  8.]], dtype=float32)"
      ]
     },
     "execution_count": 13,
     "metadata": {},
     "output_type": "execute_result"
    }
   ],
   "source": [
    "aa = tf.constant([[1,3,5],[4,6,8]],dtype = tf.float32)\n",
    "print(aa)\n",
    "sess.run(aa)"
   ]
  },
  {
   "cell_type": "code",
   "execution_count": 15,
   "metadata": {},
   "outputs": [
    {
     "data": {
      "text/plain": [
       "array([[4, 4, 4],\n",
       "       [4, 4, 4]])"
      ]
     },
     "execution_count": 15,
     "metadata": {},
     "output_type": "execute_result"
    }
   ],
   "source": [
    "four = tf.constant(4,dtype = tf.int64,shape = [2,3])\n",
    "sess.run(four)"
   ]
  },
  {
   "cell_type": "code",
   "execution_count": 17,
   "metadata": {},
   "outputs": [
    {
     "data": {
      "text/plain": [
       "array([  5.        ,   5.10204077,   5.20408154,   5.3061223 ,\n",
       "         5.40816307,   5.51020432,   5.61224508,   5.71428585,\n",
       "         5.81632662,   5.91836739,   6.02040815,   6.12244892,\n",
       "         6.22448969,   6.32653046,   6.4285717 ,   6.53061247,\n",
       "         6.63265324,   6.734694  ,   6.83673477,   6.93877554,\n",
       "         7.04081631,   7.14285755,   7.24489784,   7.34693909,\n",
       "         7.44897938,   7.55102062,   7.65306139,   7.75510216,\n",
       "         7.85714293,   7.95918369,   8.06122494,   8.16326523,\n",
       "         8.26530647,   8.36734676,   8.46938801,   8.5714283 ,\n",
       "         8.67346954,   8.77551079,   8.87755108,   8.97959232,\n",
       "         9.08163261,   9.18367386,   9.2857151 ,   9.38775539,\n",
       "         9.48979568,   9.59183693,   9.69387817,   9.79591846,\n",
       "         9.89795876,  10.        ], dtype=float32)"
      ]
     },
     "execution_count": 17,
     "metadata": {},
     "output_type": "execute_result"
    }
   ],
   "source": [
    "out = tf.linspace(5.,10.,50)\n",
    "sess.run(out)"
   ]
  },
  {
   "cell_type": "code",
   "execution_count": 20,
   "metadata": {},
   "outputs": [
    {
     "data": {
      "text/plain": [
       "array([ 10,  12,  14,  16,  18,  20,  22,  24,  26,  28,  30,  32,  34,\n",
       "        36,  38,  40,  42,  44,  46,  48,  50,  52,  54,  56,  58,  60,\n",
       "        62,  64,  66,  68,  70,  72,  74,  76,  78,  80,  82,  84,  86,\n",
       "        88,  90,  92,  94,  96,  98, 100], dtype=int32)"
      ]
     },
     "execution_count": 20,
     "metadata": {},
     "output_type": "execute_result"
    }
   ],
   "source": [
    "out = tf.range(10,102,2)\n",
    "sess.run(out)"
   ]
  },
  {
   "cell_type": "code",
   "execution_count": 23,
   "metadata": {},
   "outputs": [
    {
     "data": {
      "text/plain": [
       "array([[-0.38483927, -2.28941512],\n",
       "       [-1.94890487, -0.927746  ],\n",
       "       [-1.13704002,  0.93428129]], dtype=float32)"
      ]
     },
     "execution_count": 23,
     "metadata": {},
     "output_type": "execute_result"
    }
   ],
   "source": [
    "aa = tf.random_normal([3,2],0,2.)\n",
    "sess.run(aa)"
   ]
  },
  {
   "cell_type": "code",
   "execution_count": 24,
   "metadata": {},
   "outputs": [
    {
     "data": {
      "text/plain": [
       "array([[-0.08800367, -0.52028787],\n",
       "       [ 1.07355666,  1.54521787],\n",
       "       [ 0.26796958, -0.07958826]], dtype=float32)"
      ]
     },
     "execution_count": 24,
     "metadata": {},
     "output_type": "execute_result"
    }
   ],
   "source": [
    "aa = tf.random_normal([3,2])\n",
    "sess.run(aa)"
   ]
  },
  {
   "cell_type": "code",
   "execution_count": 25,
   "metadata": {},
   "outputs": [
    {
     "data": {
      "text/plain": [
       "array([[ 0.03692973,  0.15609443],\n",
       "       [ 0.77630818,  0.53902626],\n",
       "       [ 0.13712478,  0.23232067]], dtype=float32)"
      ]
     },
     "execution_count": 25,
     "metadata": {},
     "output_type": "execute_result"
    }
   ],
   "source": [
    "aa = tf.random_uniform([3,2])\n",
    "sess.run(aa)"
   ]
  },
  {
   "cell_type": "code",
   "execution_count": 27,
   "metadata": {},
   "outputs": [
    {
     "data": {
      "text/plain": [
       "array([[5, 6],\n",
       "       [1, 2],\n",
       "       [3, 4]], dtype=int32)"
      ]
     },
     "execution_count": 27,
     "metadata": {},
     "output_type": "execute_result"
    }
   ],
   "source": [
    "pp = tf.constant([[1,2],[3,4],[5,6]])\n",
    "out = tf.random_shuffle(pp)\n",
    "sess.run(out)"
   ]
  },
  {
   "cell_type": "code",
   "execution_count": 32,
   "metadata": {},
   "outputs": [
    {
     "data": {
      "text/plain": [
       "array([[[  2.45096421e+00,   4.37824696e-01,   1.87011051e+00],\n",
       "        [  1.10551977e+00,  -2.95844626e+00,   8.73684406e-01],\n",
       "        [ -6.88425541e-01,  -1.22569108e+00,   1.50447655e+00],\n",
       "        [ -1.33733660e-01,   6.42922223e-01,  -4.41273153e-01],\n",
       "        [ -1.39564002e+00,  -1.24029326e+00,   1.79941928e+00]],\n",
       "\n",
       "       [[  1.89247298e+00,   6.39390767e-01,   1.09996819e+00],\n",
       "        [  6.12722993e-01,  -1.27205288e+00,   1.02434719e+00],\n",
       "        [ -7.02020943e-01,  -9.44199979e-01,  -1.06148280e-01],\n",
       "        [ -1.03746176e+00,  -7.56753862e-01,  -5.22123158e-01],\n",
       "        [  8.04212630e-01,   1.80359912e+00,  -1.37084270e+00]],\n",
       "\n",
       "       [[ -2.26859793e-01,   2.21401080e-01,   9.69118536e-01],\n",
       "        [  1.60928994e-01,   4.07535821e-01,  -2.70516425e-01],\n",
       "        [  3.71946931e-01,   2.07197595e+00,   7.50473917e-01],\n",
       "        [  9.29907680e-01,  -8.70076358e-01,  -1.22325629e-01],\n",
       "        [  1.06657791e+00,   2.00526524e+00,   3.47722143e-01]],\n",
       "\n",
       "       [[  7.18843222e-01,   6.96051121e-01,   8.07602644e-01],\n",
       "        [ -6.18520617e-01,  -1.19522989e+00,   1.80859661e+00],\n",
       "        [  6.52447283e-01,  -9.65911090e-01,   7.18206942e-01],\n",
       "        [ -2.71537870e-01,  -1.30210268e+00,  -1.08456886e+00],\n",
       "        [ -1.33633625e-03,   6.89001679e-01,   9.94133711e-01]],\n",
       "\n",
       "       [[  5.96348047e-01,   4.00783211e-01,   1.71396899e+00],\n",
       "        [  7.94709980e-01,  -3.15038741e-01,   6.13827407e-01],\n",
       "        [ -4.33224916e-01,   8.61834347e-01,   2.37338805e+00],\n",
       "        [ -1.66287875e+00,   2.92320907e-01,  -1.63581777e+00],\n",
       "        [  1.49283230e+00,  -1.95910111e-01,  -7.78528690e-01]]], dtype=float32)"
      ]
     },
     "execution_count": 32,
     "metadata": {},
     "output_type": "execute_result"
    }
   ],
   "source": [
    "y = tf.random_normal([10,10,3])\n",
    "sess.run(y)\n",
    "sess.run(tf.random_crop(y,[5,5,3]))"
   ]
  },
  {
   "cell_type": "code",
   "execution_count": null,
   "metadata": {},
   "outputs": [],
   "source": []
  }
 ],
 "metadata": {
  "kernelspec": {
   "display_name": "Python 3",
   "language": "python",
   "name": "python3"
  },
  "language_info": {
   "codemirror_mode": {
    "name": "ipython",
    "version": 3
   },
   "file_extension": ".py",
   "mimetype": "text/x-python",
   "name": "python",
   "nbconvert_exporter": "python",
   "pygments_lexer": "ipython3",
   "version": "3.5.4"
  }
 },
 "nbformat": 4,
 "nbformat_minor": 2
}
