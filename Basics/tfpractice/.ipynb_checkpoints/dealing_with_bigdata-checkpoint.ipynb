{
 "cells": [
  {
   "cell_type": "code",
   "execution_count": 10,
   "metadata": {},
   "outputs": [],
   "source": [
    "import tensorflow as tf\n",
    "import numpy as np"
   ]
  },
  {
   "cell_type": "code",
   "execution_count": 11,
   "metadata": {},
   "outputs": [],
   "source": [
    "xs = np.linspace(0.0,8.0,80)\n",
    "ys = 0.3*xs - 0.8 + np.random.normal(scale = 0.25,size = len(xs))\n",
    "\n",
    "# for x,y in zip(xs,ys):\n",
    "#     print('xs =',x)\n",
    "#     print('ys =',y)"
   ]
  },
  {
   "cell_type": "code",
   "execution_count": 13,
   "metadata": {},
   "outputs": [
    {
     "name": "stdout",
     "output_type": "stream",
     "text": [
      "Slope: 0.30892 Intercept: -0.784074\n"
     ]
    }
   ],
   "source": [
    "m_init = -0.5\n",
    "b_init = 1.0\n",
    "\n",
    "m = tf.Variable(m_init) # Parameters\n",
    "b = tf.Variable(b_init)\n",
    "\n",
    "#batch GD now -- cuz dealing with a lot of data baby\n",
    "\n",
    "_batch = 8\n",
    "xs_placeholder = tf.placeholder(tf.float32,[_batch])\n",
    "ys_placeholder = tf.placeholder(tf.float32,[_batch])\n",
    "\n",
    "ys_model = m*xs_placeholder + b # Tensorflow knows this is a vector operation\n",
    "total_error = tf.reduce_sum((ys_placeholder-ys_model)**2) # Sum up every item in the vector\n",
    "\n",
    "\n",
    "optimizer_operation = tf.train.GradientDescentOptimizer(learning_rate=0.001).minimize(total_error) # Does one step\n",
    "\n",
    "initializer_operation = tf.global_variables_initializer()\n",
    "\n",
    "with tf.Session() as session:\n",
    "\n",
    "\tsession.run(initializer_operation) \n",
    "\n",
    "\t_EPOCHS = 10000 \n",
    "\tfor iteration in range(_EPOCHS):\n",
    "\t\trandom_indices = np.random.randint(len(xs), size=_BATCH) # Randomly sample the data\n",
    "\t\tfeed = {\n",
    "\t\t\txs_placeholder: xs[random_indices],\n",
    "\t\t\tys_placeholder: ys[random_indices]\n",
    "\t\t}\n",
    "\t\tsession.run(optimizer_operation, feed_dict=feed)\n",
    "\n",
    "\tslope, intercept = session.run((m, b)) \n",
    "\tprint('Slope:', slope, 'Intercept:', intercept)"
   ]
  },
  {
   "cell_type": "code",
   "execution_count": null,
   "metadata": {},
   "outputs": [],
   "source": []
  },
  {
   "cell_type": "code",
   "execution_count": null,
   "metadata": {},
   "outputs": [],
   "source": []
  }
 ],
 "metadata": {
  "kernelspec": {
   "display_name": "Python 3",
   "language": "python",
   "name": "python3"
  },
  "language_info": {
   "codemirror_mode": {
    "name": "ipython",
    "version": 3
   },
   "file_extension": ".py",
   "mimetype": "text/x-python",
   "name": "python",
   "nbconvert_exporter": "python",
   "pygments_lexer": "ipython3",
   "version": "3.5.4"
  }
 },
 "nbformat": 4,
 "nbformat_minor": 2
}
