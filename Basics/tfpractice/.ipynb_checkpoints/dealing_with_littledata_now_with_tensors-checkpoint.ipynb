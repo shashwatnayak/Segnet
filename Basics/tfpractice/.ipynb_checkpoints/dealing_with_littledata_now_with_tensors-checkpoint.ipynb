{
 "cells": [
  {
   "cell_type": "code",
   "execution_count": 1,
   "metadata": {},
   "outputs": [],
   "source": [
    "import tensorflow as tf"
   ]
  },
  {
   "cell_type": "code",
   "execution_count": 2,
   "metadata": {},
   "outputs": [
    {
     "name": "stdout",
     "output_type": "stream",
     "text": [
      "slope 0.297024 intercept -0.860833\n"
     ]
    }
   ],
   "source": [
    "xs = [ 0.00,  1.00,  2.00, 3.00, 4.00, 5.00, 6.00, 7.00] # Features\n",
    "ys = [-0.82, -0.94, -0.12, 0.26, 0.39, 0.64, 1.02, 1.00] # Labels\n",
    "\n",
    "m_init = 0.0\n",
    "b_init = 0.0\n",
    "\n",
    "m = tf.Variable(m_init)\n",
    "b = tf.Variable(b_init)\n",
    "\n",
    "ys_model = tf.add(tf.multiply(m,xs),b)\n",
    "tot_errr = tf.reduce_sum((ys-ys_model)**2)\n",
    "\n",
    "opt_ops = tf.train.AdamOptimizer(learning_rate=0.001).minimize(tot_errr)\n",
    "init_ops = tf.global_variables_initializer()\n",
    "\n",
    "with tf.Session() as sess:\n",
    "    sess.run(init_ops)\n",
    "    \n",
    "    _epochs = 10000\n",
    "    for iteration in range(_epochs):\n",
    "        sess.run(opt_ops)\n",
    "    slope,intcept = sess.run((m,b))\n",
    "    print('slope',slope,'intercept',intcept)"
   ]
  },
  {
   "cell_type": "code",
   "execution_count": null,
   "metadata": {},
   "outputs": [],
   "source": []
  },
  {
   "cell_type": "code",
   "execution_count": null,
   "metadata": {},
   "outputs": [],
   "source": []
  }
 ],
 "metadata": {
  "kernelspec": {
   "display_name": "Python 3",
   "language": "python",
   "name": "python3"
  },
  "language_info": {
   "codemirror_mode": {
    "name": "ipython",
    "version": 3
   },
   "file_extension": ".py",
   "mimetype": "text/x-python",
   "name": "python",
   "nbconvert_exporter": "python",
   "pygments_lexer": "ipython3",
   "version": "3.5.4"
  }
 },
 "nbformat": 4,
 "nbformat_minor": 2
}
