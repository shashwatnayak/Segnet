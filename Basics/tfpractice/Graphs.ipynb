{
 "cells": [
  {
   "cell_type": "code",
   "execution_count": 1,
   "metadata": {},
   "outputs": [],
   "source": [
    "from __future__ import print_function\n",
    "import numpy as np\n",
    "import tensorflow as tf"
   ]
  },
  {
   "cell_type": "code",
   "execution_count": 2,
   "metadata": {},
   "outputs": [
    {
     "data": {
      "text/plain": [
       "datetime.date(2018, 12, 24)"
      ]
     },
     "execution_count": 2,
     "metadata": {},
     "output_type": "execute_result"
    }
   ],
   "source": [
    "\n",
    "from datetime import date\n",
    "date.today()"
   ]
  },
  {
   "cell_type": "code",
   "execution_count": 13,
   "metadata": {},
   "outputs": [
    {
     "name": "stdout",
     "output_type": "stream",
     "text": [
      "c =  6\n",
      "d =  5\n",
      "e =  1\n"
     ]
    }
   ],
   "source": [
    "a = tf.constant(2,tf.int32,name=\"a\")\n",
    "b = tf.constant(3,tf.int32,name=\"b\")\n",
    "\n",
    "c = tf.multiply(a,b,name=\"c\")\n",
    "d = tf.add(a,b,name=\"d\")\n",
    "e = tf.subtract(c,d,name=\"e\")\n",
    "sess = tf.Session()\n",
    "\n",
    "# print(\"c = \",sess.run(c))\n",
    "# print(\"d = \",sess.run(d))\n",
    "# print(\"e = \",sess.run(e))\n",
    "cc,dd,ee = sess.run([c,d,e])\n",
    "print(\"c = \",cc)\n",
    "print(\"d = \",dd)\n",
    "print(\"e = \",ee)\n",
    "\n"
   ]
  },
  {
   "cell_type": "code",
   "execution_count": 11,
   "metadata": {},
   "outputs": [],
   "source": [
    "tf.reset_default_graph()"
   ]
  },
  {
   "cell_type": "code",
   "execution_count": 14,
   "metadata": {},
   "outputs": [],
   "source": [
    "a = tf.Variable(tf.random_uniform([]))\n",
    "b_pl = tf.placeholder(tf.float32, [None])\n",
    "\n",
    "# Ops\n",
    "c = a * b_pl\n",
    "d = a + b_pl\n",
    "e = tf.reduce_sum(c)\n",
    "f = tf.reduce_mean(d)\n",
    "g = e - f\n",
    "\n",
    "# initialize variable(s)\n",
    "init = tf.global_variables_initializer()\n",
    "\n",
    "# Update variable\n",
    "update_op = tf.assign(a, a + g)\n",
    "\n",
    "# Q4. Create a (summary) writer to `asset`\n",
    "writer = tf.summary.FileWriter('asset', tf.get_default_graph())\n",
    "\n",
    "#Q5. Add `a` to summary.scalar\n",
    "tf.summary.scalar(\"a\", a)\n",
    "\n",
    "#Q6. Add `c` and `d` to summary.histogram\n",
    "tf.summary.histogram(\"c\", c)\n",
    "tf.summary.histogram(\"d\", d)\n",
    "\n",
    "#Q7. Merge all summaries.\n",
    "summaries = tf.summary.merge_all()\n",
    "\n",
    "\n",
    "sess = tf.Session()\n",
    "\n",
    "\n",
    "sess.run(init)\n",
    "\n",
    "\n",
    "for step in range(5):\n",
    "    _b = np.arange(10, dtype=np.float32)\n",
    "    _, summaries_proto = sess.run([update_op, summaries], {b_pl:_b})\n",
    "    \n",
    "    \n",
    "    writer.add_summary(summaries_proto, global_step=step)\n",
    "    \n",
    "\n",
    "sess.close()"
   ]
  },
  {
   "cell_type": "code",
   "execution_count": null,
   "metadata": {},
   "outputs": [],
   "source": []
  }
 ],
 "metadata": {
  "kernelspec": {
   "display_name": "Python 3",
   "language": "python",
   "name": "python3"
  },
  "language_info": {
   "codemirror_mode": {
    "name": "ipython",
    "version": 3
   },
   "file_extension": ".py",
   "mimetype": "text/x-python",
   "name": "python",
   "nbconvert_exporter": "python",
   "pygments_lexer": "ipython3",
   "version": "3.5.4"
  }
 },
 "nbformat": 4,
 "nbformat_minor": 2
}
